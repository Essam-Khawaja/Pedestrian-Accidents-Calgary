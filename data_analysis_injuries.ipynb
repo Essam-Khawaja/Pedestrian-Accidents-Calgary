{
 "cells": [
  {
   "cell_type": "markdown",
   "id": "13167511",
   "metadata": {},
   "source": [
    "# Exploring the Data from Pedestrian Injuries\n",
    "\n",
    "This notebook will explore another dataset with the types of pedestrian accident injuries."
   ]
  },
  {
   "cell_type": "markdown",
   "id": "385b3eab",
   "metadata": {},
   "source": [
    "## Setup"
   ]
  },
  {
   "cell_type": "code",
   "execution_count": 1,
   "id": "9e00daa5",
   "metadata": {},
   "outputs": [],
   "source": [
    "import numpy as np\n",
    "import pandas as pd\n",
    "import matplotlib.pyplot as plt\n",
    "import seaborn as sns\n",
    "\n",
    "sns.set_theme(style=\"darkgrid\")"
   ]
  },
  {
   "cell_type": "code",
   "execution_count": 3,
   "id": "d4d762e8",
   "metadata": {},
   "outputs": [],
   "source": [
    "raw_data = pd.read_csv(\"./data/Pedestrian_Collision_Injuries.csv\")"
   ]
  },
  {
   "cell_type": "code",
   "execution_count": 4,
   "id": "bd0b0d7b",
   "metadata": {},
   "outputs": [
    {
     "data": {
      "text/html": [
       "<div>\n",
       "<style scoped>\n",
       "    .dataframe tbody tr th:only-of-type {\n",
       "        vertical-align: middle;\n",
       "    }\n",
       "\n",
       "    .dataframe tbody tr th {\n",
       "        vertical-align: top;\n",
       "    }\n",
       "\n",
       "    .dataframe thead th {\n",
       "        text-align: right;\n",
       "    }\n",
       "</style>\n",
       "<table border=\"1\" class=\"dataframe\">\n",
       "  <thead>\n",
       "    <tr style=\"text-align: right;\">\n",
       "      <th></th>\n",
       "      <th>Admission Type</th>\n",
       "      <th>Year</th>\n",
       "      <th>Pedestrian Injury Type</th>\n",
       "      <th>Count</th>\n",
       "    </tr>\n",
       "  </thead>\n",
       "  <tbody>\n",
       "    <tr>\n",
       "      <th>0</th>\n",
       "      <td>Emergency Department Visit</td>\n",
       "      <td>2013</td>\n",
       "      <td>Pedestrian injured in collision with car, pick...</td>\n",
       "      <td>582.0</td>\n",
       "    </tr>\n",
       "    <tr>\n",
       "      <th>1</th>\n",
       "      <td>Emergency Department Visit</td>\n",
       "      <td>2014</td>\n",
       "      <td>Pedestrian injured in collision with car, pick...</td>\n",
       "      <td>555.0</td>\n",
       "    </tr>\n",
       "    <tr>\n",
       "      <th>2</th>\n",
       "      <td>Emergency Department Visit</td>\n",
       "      <td>2015</td>\n",
       "      <td>Pedestrian injured in collision with car, pick...</td>\n",
       "      <td>555.0</td>\n",
       "    </tr>\n",
       "    <tr>\n",
       "      <th>3</th>\n",
       "      <td>Emergency Department Visit</td>\n",
       "      <td>2016</td>\n",
       "      <td>Pedestrian injured in collision with car, pick...</td>\n",
       "      <td>545.0</td>\n",
       "    </tr>\n",
       "    <tr>\n",
       "      <th>4</th>\n",
       "      <td>Emergency Department Visit</td>\n",
       "      <td>2017</td>\n",
       "      <td>Pedestrian injured in collision with car, pick...</td>\n",
       "      <td>488.0</td>\n",
       "    </tr>\n",
       "  </tbody>\n",
       "</table>\n",
       "</div>"
      ],
      "text/plain": [
       "               Admission Type  Year  \\\n",
       "0  Emergency Department Visit  2013   \n",
       "1  Emergency Department Visit  2014   \n",
       "2  Emergency Department Visit  2015   \n",
       "3  Emergency Department Visit  2016   \n",
       "4  Emergency Department Visit  2017   \n",
       "\n",
       "                              Pedestrian Injury Type  Count  \n",
       "0  Pedestrian injured in collision with car, pick...  582.0  \n",
       "1  Pedestrian injured in collision with car, pick...  555.0  \n",
       "2  Pedestrian injured in collision with car, pick...  555.0  \n",
       "3  Pedestrian injured in collision with car, pick...  545.0  \n",
       "4  Pedestrian injured in collision with car, pick...  488.0  "
      ]
     },
     "execution_count": 4,
     "metadata": {},
     "output_type": "execute_result"
    }
   ],
   "source": [
    "raw_data.head()"
   ]
  },
  {
   "cell_type": "code",
   "execution_count": 5,
   "id": "bcbdc04e",
   "metadata": {},
   "outputs": [
    {
     "data": {
      "text/plain": [
       "Admission Type\n",
       "Emergency Department Visit    42\n",
       "Hospital Admission            33\n",
       "Name: count, dtype: int64"
      ]
     },
     "execution_count": 5,
     "metadata": {},
     "output_type": "execute_result"
    }
   ],
   "source": [
    "raw_data['Admission Type'].value_counts()"
   ]
  },
  {
   "cell_type": "code",
   "execution_count": 6,
   "id": "7a4edabd",
   "metadata": {},
   "outputs": [
    {
     "data": {
      "text/plain": [
       "Year\n",
       "2014    14\n",
       "2018    14\n",
       "2016    13\n",
       "2013    12\n",
       "2015    12\n",
       "2017    10\n",
       "Name: count, dtype: int64"
      ]
     },
     "execution_count": 6,
     "metadata": {},
     "output_type": "execute_result"
    }
   ],
   "source": [
    "raw_data['Year'].value_counts()"
   ]
  },
  {
   "cell_type": "markdown",
   "id": "ce153a83",
   "metadata": {},
   "source": [
    "Uh oh, looks like this data is kinda old and not that useful to us right now."
   ]
  },
  {
   "cell_type": "code",
   "execution_count": 7,
   "id": "fb1a8c48",
   "metadata": {},
   "outputs": [
    {
     "data": {
      "text/plain": [
       "Pedestrian Injury Type\n",
       "Pedestrian injured in collision with car, pick-up truck or van              12\n",
       "Pedestrian injured in collision with heavy transport vehicle or bus         12\n",
       "Pedestrian injured in other and unspecified transport accidents             12\n",
       "Pedestrian injured in collision with other nonmotor vehicle                 10\n",
       "Pedestrian injured in collision with pedal cycle                            10\n",
       "Pedestrian injured in collision with railway train or railway vehicle       10\n",
       "Pedestrian injured in collision with two- or three-wheeled motor vehicle     9\n",
       "Name: count, dtype: int64"
      ]
     },
     "execution_count": 7,
     "metadata": {},
     "output_type": "execute_result"
    }
   ],
   "source": [
    "raw_data['Pedestrian Injury Type'].value_counts()"
   ]
  },
  {
   "cell_type": "code",
   "execution_count": 9,
   "id": "70f16f12",
   "metadata": {},
   "outputs": [
    {
     "data": {
      "text/html": [
       "<div>\n",
       "<style scoped>\n",
       "    .dataframe tbody tr th:only-of-type {\n",
       "        vertical-align: middle;\n",
       "    }\n",
       "\n",
       "    .dataframe tbody tr th {\n",
       "        vertical-align: top;\n",
       "    }\n",
       "\n",
       "    .dataframe thead th {\n",
       "        text-align: right;\n",
       "    }\n",
       "</style>\n",
       "<table border=\"1\" class=\"dataframe\">\n",
       "  <thead>\n",
       "    <tr style=\"text-align: right;\">\n",
       "      <th></th>\n",
       "      <th>Year</th>\n",
       "      <th>Count</th>\n",
       "    </tr>\n",
       "  </thead>\n",
       "  <tbody>\n",
       "    <tr>\n",
       "      <th>count</th>\n",
       "      <td>75.000000</td>\n",
       "      <td>57.000000</td>\n",
       "    </tr>\n",
       "    <tr>\n",
       "      <th>mean</th>\n",
       "      <td>2015.493333</td>\n",
       "      <td>83.385965</td>\n",
       "    </tr>\n",
       "    <tr>\n",
       "      <th>std</th>\n",
       "      <td>1.734961</td>\n",
       "      <td>161.521201</td>\n",
       "    </tr>\n",
       "    <tr>\n",
       "      <th>min</th>\n",
       "      <td>2013.000000</td>\n",
       "      <td>1.000000</td>\n",
       "    </tr>\n",
       "    <tr>\n",
       "      <th>25%</th>\n",
       "      <td>2014.000000</td>\n",
       "      <td>7.000000</td>\n",
       "    </tr>\n",
       "    <tr>\n",
       "      <th>50%</th>\n",
       "      <td>2015.000000</td>\n",
       "      <td>18.000000</td>\n",
       "    </tr>\n",
       "    <tr>\n",
       "      <th>75%</th>\n",
       "      <td>2017.000000</td>\n",
       "      <td>61.000000</td>\n",
       "    </tr>\n",
       "    <tr>\n",
       "      <th>max</th>\n",
       "      <td>2018.000000</td>\n",
       "      <td>582.000000</td>\n",
       "    </tr>\n",
       "  </tbody>\n",
       "</table>\n",
       "</div>"
      ],
      "text/plain": [
       "              Year       Count\n",
       "count    75.000000   57.000000\n",
       "mean   2015.493333   83.385965\n",
       "std       1.734961  161.521201\n",
       "min    2013.000000    1.000000\n",
       "25%    2014.000000    7.000000\n",
       "50%    2015.000000   18.000000\n",
       "75%    2017.000000   61.000000\n",
       "max    2018.000000  582.000000"
      ]
     },
     "execution_count": 9,
     "metadata": {},
     "output_type": "execute_result"
    }
   ],
   "source": [
    "raw_data.describe()"
   ]
  },
  {
   "cell_type": "code",
   "execution_count": 11,
   "id": "39dfa3cf",
   "metadata": {},
   "outputs": [
    {
     "data": {
      "text/plain": [
       "Admission Type             0\n",
       "Year                       0\n",
       "Pedestrian Injury Type     0\n",
       "Count                     18\n",
       "dtype: int64"
      ]
     },
     "execution_count": 11,
     "metadata": {},
     "output_type": "execute_result"
    }
   ],
   "source": [
    "raw_data.isnull().sum()"
   ]
  },
  {
   "cell_type": "code",
   "execution_count": 12,
   "id": "b4bb2955",
   "metadata": {},
   "outputs": [
    {
     "name": "stderr",
     "output_type": "stream",
     "text": [
      "/var/folders/qw/y3ys43gs7cdblx18lvtrz8r40000gn/T/ipykernel_4113/1918922291.py:2: FutureWarning: A value is trying to be set on a copy of a DataFrame or Series through chained assignment using an inplace method.\n",
      "The behavior will change in pandas 3.0. This inplace method will never work because the intermediate object on which we are setting values always behaves as a copy.\n",
      "\n",
      "For example, when doing 'df[col].method(value, inplace=True)', try using 'df.method({col: value}, inplace=True)' or df[col] = df[col].method(value) instead, to perform the operation inplace on the original object.\n",
      "\n",
      "\n",
      "  raw_data['Count'].fillna(mean_count, inplace=True)\n"
     ]
    }
   ],
   "source": [
    "mean_count = raw_data['Count'].mean()\n",
    "raw_data['Count'].fillna(mean_count, inplace=True)"
   ]
  },
  {
   "cell_type": "code",
   "execution_count": 13,
   "id": "e87f3a4e",
   "metadata": {},
   "outputs": [
    {
     "data": {
      "text/plain": [
       "Admission Type            0\n",
       "Year                      0\n",
       "Pedestrian Injury Type    0\n",
       "Count                     0\n",
       "dtype: int64"
      ]
     },
     "execution_count": 13,
     "metadata": {},
     "output_type": "execute_result"
    }
   ],
   "source": [
    "raw_data.isnull().sum()"
   ]
  },
  {
   "cell_type": "markdown",
   "id": "b781d878",
   "metadata": {},
   "source": [
    "## EDA\n",
    "The data is pretty clean, so we can check in on the analysis"
   ]
  },
  {
   "cell_type": "code",
   "execution_count": null,
   "id": "1ed60a25",
   "metadata": {},
   "outputs": [],
   "source": []
  }
 ],
 "metadata": {
  "kernelspec": {
   "display_name": "base",
   "language": "python",
   "name": "python3"
  },
  "language_info": {
   "codemirror_mode": {
    "name": "ipython",
    "version": 3
   },
   "file_extension": ".py",
   "mimetype": "text/x-python",
   "name": "python",
   "nbconvert_exporter": "python",
   "pygments_lexer": "ipython3",
   "version": "3.12.7"
  }
 },
 "nbformat": 4,
 "nbformat_minor": 5
}
